{
 "cells": [
  {
   "metadata": {},
   "cell_type": "markdown",
   "source": "## Uzduotis:",
   "id": "70a2cd04e048b32d"
  },
  {
   "metadata": {},
   "cell_type": "markdown",
   "source": "### Sukurti sistemą, kuri surenka informaciją apie produktus iš el. parduotuvės (naudojant BeautifulSoup), analizuoja duomenis (pandas), vizualizuoja rezultatus (matplotlib) ir klasifikuoja ar grupuoja produktus pagal savybes (naudojant KMeans, DBSCAN ar DecisionTreeClassifier).",
   "id": "65e9def216ba61dd"
  },
  {
   "metadata": {},
   "cell_type": "markdown",
   "source": "## Reikalavimai:",
   "id": "3f5a842e10bf79a8"
  },
  {
   "metadata": {},
   "cell_type": "markdown",
   "source": [
    "1. Bibliotekos\n",
    "    pandas – duomenų analizė\n",
    "    bs4 (BeautifulSoup) – duomenų nuskaitymas iš HTML\n",
    "    matplotlib – duomenų vizualizavimas\n",
    "    sklearn – klasifikacijos ir grupavimo algoritmai (KMeans, DBSCAN, DecisionTreeClassifier)\n",
    "\n",
    "2. Funkcionalumas\n",
    "    Duomenų surinkimas( <5000 duomenų)\n",
    "        Naudojant BeautifulSoup, nuskaityti produktų duomenis (pavadinimas, kaina, reitingas, aprašymas)\n",
    "        iš el. parduotuvės HTML puslapio.\n",
    "\n",
    "    Duomenų apdorojimas\n",
    "        Sukurti DataFrame su pandas.\n",
    "        Atlikti duomenų valymą (trūkstamų reikšmių tvarkymas, tipų keitimas).\n",
    "\n",
    "    Vizualizacijos\n",
    "        Sukurti bent 2 vizualizacijas su matplotlib:\n",
    "            Kainų pasiskirstymo histograma.\n",
    "            Kainos vs reitingas sklaidos diagrama.\n",
    "\n",
    "    Klasifikavimas ar grupavimas\n",
    "        Pritaikyti vieną iš algoritmų:\n",
    "            KMeans – grupuoti produktus pagal kainą ir reitingą.\n",
    "            DBSCAN – ieškoti natūralių grupių.\n",
    "            DecisionTreeClassifier – klasifikuoti produktus pagal nurodytas kategorijas.\n",
    "\n",
    "3. Papildomai\n",
    "    Pridėti produkto kategorijos analizę.\n",
    "    Nustatyti, kokios savybės turi įtakos produkto kainai.\n",
    "    Sukurti paprastą vartotojo sąsają."
   ],
   "id": "493cf4c5d87ace4b"
  },
  {
   "metadata": {},
   "cell_type": "markdown",
   "source": "# NOTEBOOK:",
   "id": "cee868b4e3a7af51"
  },
  {
   "metadata": {},
   "cell_type": "markdown",
   "source": "### Naudojame parasyti idejas, mintis ir tam tikro kodo testavimui",
   "id": "d7a2aa8b6af5249"
  },
  {
   "metadata": {},
   "cell_type": "code",
   "outputs": [],
   "execution_count": null,
   "source": "",
   "id": "e540ca5c4ea4cad0"
  }
 ],
 "metadata": {
  "kernelspec": {
   "display_name": "Python 3",
   "language": "python",
   "name": "python3"
  },
  "language_info": {
   "codemirror_mode": {
    "name": "ipython",
    "version": 2
   },
   "file_extension": ".py",
   "mimetype": "text/x-python",
   "name": "python",
   "nbconvert_exporter": "python",
   "pygments_lexer": "ipython2",
   "version": "2.7.6"
  }
 },
 "nbformat": 4,
 "nbformat_minor": 5
}
